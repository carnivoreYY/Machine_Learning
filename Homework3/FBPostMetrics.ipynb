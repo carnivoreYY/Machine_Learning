{
 "cells": [
  {
   "cell_type": "code",
   "execution_count": 13,
   "metadata": {
    "collapsed": true
   },
   "outputs": [],
   "source": [
    "import pandas as pd\n",
    "from sklearn import preprocessing\n",
    "import numpy as np\n",
    "import sys\n",
    "from sklearn.cluster import KMeans\n",
    "from sklearn.cluster import AgglomerativeClustering\n",
    "from sklearn.mixture import GaussianMixture"
   ]
  },
  {
   "cell_type": "code",
   "execution_count": 14,
   "metadata": {
    "collapsed": true
   },
   "outputs": [],
   "source": [
    "\n",
    "def load_data(path):\n",
    "    data = pd.read_csv(path, sep=\";\", header=0, index_col=False, skipinitialspace=True)\n",
    "    # Drop the rows where all of the elements are 'NaN'\n",
    "    data.replace([\"NaN\"], np.nan, inplace = True)\n",
    "    data = data.dropna(axis=0, how='any')\n",
    "    le_Type = preprocessing.LabelEncoder()\n",
    "    data['Type'] = le_Type.fit_transform(data['Type'])\n",
    "    scaler = preprocessing.MinMaxScaler()\n",
    "    data = scaler.fit_transform(data)\n",
    "    return data\n",
    "\n",
    "def total_Sum_Of_Squares(data):\n",
    "    centroid = data.mean(0)\n",
    "    total = 0.0\n",
    "    for row in data:\n",
    "        for i in range(data.shape[1]):\n",
    "            total += (row[i] - centroid[i])**2\n",
    "    return total\n",
    "\n",
    "def within_total_Sum_Of_Squares(data, y_labels, k):\n",
    "    clusters = {}\n",
    "    for index in range(len(data)):\n",
    "        if y_labels[index] not in clusters:\n",
    "            clusters[y_labels[index]] = []\n",
    "        clusters[y_labels[index]].append(data[index])\n",
    "    withinTotal = 0.0\n",
    "    for i in range(k):\n",
    "        cluster = np.asarray(clusters[i])\n",
    "        withinTotal += cluster.var() * len(cluster) \n",
    "    return withinTotal"
   ]
  },
  {
   "cell_type": "code",
   "execution_count": 15,
   "metadata": {},
   "outputs": [
    {
     "name": "stdout",
     "output_type": "stream",
     "text": [
      "Total sum of squares :: 410.68\n"
     ]
    }
   ],
   "source": [
    "data = load_data(\"Facebook_metrics/dataset_Facebook.csv\")\n",
    "#check if there is NaN\n",
    "#data.isnull().sum().sum() \n",
    "total = total_Sum_Of_Squares(data)\n",
    "print(\"Total sum of squares :: %0.2f\" % (total))"
   ]
  },
  {
   "cell_type": "code",
   "execution_count": 16,
   "metadata": {},
   "outputs": [
    {
     "name": "stdout",
     "output_type": "stream",
     "text": [
      "===== Clustering Result for K equals 1 =====\n",
      "The ratio for K-Means :: 0.10650\n",
      "The ratio for H-Clustering :: 0.10650\n",
      "The ratio for Gaussian Mixture Models :: 0.10650\n",
      "===== Clustering Result for K equals 2 =====\n",
      "The ratio for K-Means :: 0.10560\n",
      "The ratio for H-Clustering :: 0.10572\n",
      "The ratio for Gaussian Mixture Models :: 0.10560\n",
      "===== Clustering Result for K equals 3 =====\n",
      "The ratio for K-Means :: 0.10555\n",
      "The ratio for H-Clustering :: 0.10495\n",
      "The ratio for Gaussian Mixture Models :: 0.10544\n",
      "===== Clustering Result for K equals 4 =====\n",
      "The ratio for K-Means :: 0.10510\n",
      "The ratio for H-Clustering :: 0.10479\n",
      "The ratio for Gaussian Mixture Models :: 0.10533\n",
      "===== Clustering Result for K equals 5 =====\n",
      "The ratio for K-Means :: 0.10510\n",
      "The ratio for H-Clustering :: 0.10478\n",
      "The ratio for Gaussian Mixture Models :: 0.10543\n",
      "===== Clustering Result for K equals 6 =====\n",
      "The ratio for K-Means :: 0.10497\n",
      "The ratio for H-Clustering :: 0.10441\n",
      "The ratio for Gaussian Mixture Models :: 0.10499\n",
      "===== Clustering Result for K equals 7 =====\n",
      "The ratio for K-Means :: 0.10477\n",
      "The ratio for H-Clustering :: 0.10440\n",
      "The ratio for Gaussian Mixture Models :: 0.10499\n",
      "===== Clustering Result for K equals 8 =====\n",
      "The ratio for K-Means :: 0.10465\n",
      "The ratio for H-Clustering :: 0.10398\n",
      "The ratio for Gaussian Mixture Models :: 0.10495\n",
      "===== Clustering Result for K equals 9 =====\n",
      "The ratio for K-Means :: 0.10464\n",
      "The ratio for H-Clustering :: 0.10384\n",
      "The ratio for Gaussian Mixture Models :: 0.10446\n",
      "===== Clustering Result for K equals 10 =====\n",
      "The ratio for K-Means :: 0.10460\n",
      "The ratio for H-Clustering :: 0.10380\n",
      "The ratio for Gaussian Mixture Models :: 0.10470\n"
     ]
    }
   ],
   "source": [
    "for k in range(1,11):\n",
    "    print(\"===== Clustering Result for K equals\", k , \"=====\")\n",
    "    #K-Means\n",
    "    kmeans = KMeans(k)\n",
    "    kmeans.fit(data)\n",
    "    labels = kmeans.predict(data)\n",
    "    withinTotal = within_total_Sum_Of_Squares(data, labels, k)\n",
    "    print(\"The ratio for K-Means :: %0.5f\" % (withinTotal/total))\n",
    "    #H-Clustering\n",
    "    model = AgglomerativeClustering(n_clusters=k)\n",
    "    labels = model.fit_predict(data)\n",
    "    withinTotal = within_total_Sum_Of_Squares(data, labels, k)\n",
    "    print(\"The ratio for H-Clustering :: %0.5f\" % (withinTotal/total))\n",
    "    #Gaussian Mixture Models\n",
    "    gmm = GaussianMixture(n_components=k).fit(data)\n",
    "    labels = gmm.predict(data)\n",
    "    withinTotal = within_total_Sum_Of_Squares(data, labels, k)\n",
    "    print(\"The ratio for Gaussian Mixture Models :: %0.5f\" % (withinTotal/total))"
   ]
  },
  {
   "cell_type": "code",
   "execution_count": null,
   "metadata": {
    "collapsed": true
   },
   "outputs": [],
   "source": []
  }
 ],
 "metadata": {
  "kernelspec": {
   "display_name": "Python 3",
   "language": "python",
   "name": "python3"
  },
  "language_info": {
   "codemirror_mode": {
    "name": "ipython",
    "version": 3
   },
   "file_extension": ".py",
   "mimetype": "text/x-python",
   "name": "python",
   "nbconvert_exporter": "python",
   "pygments_lexer": "ipython3",
   "version": "3.6.3"
  }
 },
 "nbformat": 4,
 "nbformat_minor": 2
}
