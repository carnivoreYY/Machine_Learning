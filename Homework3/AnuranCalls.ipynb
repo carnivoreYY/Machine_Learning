{
 "cells": [
  {
   "cell_type": "code",
   "execution_count": 28,
   "metadata": {
    "collapsed": true
   },
   "outputs": [],
   "source": [
    "import pandas as pd\n",
    "from sklearn import preprocessing\n",
    "import numpy as np\n",
    "import sys\n",
    "from sklearn.cluster import KMeans\n",
    "from sklearn.cluster import AgglomerativeClustering\n",
    "from sklearn.mixture import GaussianMixture"
   ]
  },
  {
   "cell_type": "code",
   "execution_count": 29,
   "metadata": {
    "collapsed": true
   },
   "outputs": [],
   "source": [
    "def load_data(path):\n",
    "    data = pd.read_csv(path, sep=\",\", header=0, index_col=False, usecols=[*range(1, 22)], skipinitialspace=True)\n",
    "    return data\n",
    "\n",
    "def total_Sum_Of_Squares(data):\n",
    "    centroid = data.mean()\n",
    "    total = 0.0\n",
    "    for index, row in data.iterrows():\n",
    "        for i in range(data.shape[1]):\n",
    "            total += (row.iloc[i] - centroid.iloc[i])**2\n",
    "    return total\n",
    "\n",
    "def within_total_Sum_Of_Squares(data, y_labels, k):\n",
    "    clusters = {}\n",
    "    for index, row in data.iterrows():\n",
    "        if y_labels[index] not in clusters:\n",
    "            clusters[y_labels[index]] = []\n",
    "        clusters[y_labels[index]].append(row)\n",
    "    withinTotal = 0.0\n",
    "    for i in range(k):\n",
    "        cluster = np.asarray(clusters[i])\n",
    "        withinTotal += cluster.var() * len(cluster) \n",
    "    return withinTotal"
   ]
  },
  {
   "cell_type": "code",
   "execution_count": 30,
   "metadata": {},
   "outputs": [
    {
     "name": "stdout",
     "output_type": "stream",
     "text": [
      "Total sum of squares :: 3693.26\n"
     ]
    }
   ],
   "source": [
    "data = load_data('Anuran Calls (MFCCs)/Frogs_MFCCs.csv')\n",
    "total = total_Sum_Of_Squares(data)\n",
    "print(\"Total sum of squares :: %0.2f\" % (total))"
   ]
  },
  {
   "cell_type": "code",
   "execution_count": 35,
   "metadata": {},
   "outputs": [
    {
     "name": "stdout",
     "output_type": "stream",
     "text": [
      "===== Clustering Result for K equals 1 =====\n",
      "The ratio for K-Means :: 0.08472\n",
      "The ratio for H-Clustering :: 0.08472\n",
      "The ratio for Gaussian Mixture Models :: 0.08472\n",
      "===== Clustering Result for K equals 2 =====\n",
      "The ratio for K-Means :: 0.08472\n",
      "The ratio for H-Clustering :: 0.08472\n",
      "The ratio for Gaussian Mixture Models :: 0.08472\n",
      "===== Clustering Result for K equals 3 =====\n",
      "The ratio for K-Means :: 0.08430\n",
      "The ratio for H-Clustering :: 0.08456\n",
      "The ratio for Gaussian Mixture Models :: 0.08443\n",
      "===== Clustering Result for K equals 4 =====\n",
      "The ratio for K-Means :: 0.08430\n",
      "The ratio for H-Clustering :: 0.08446\n",
      "The ratio for Gaussian Mixture Models :: 0.08447\n",
      "===== Clustering Result for K equals 5 =====\n",
      "The ratio for K-Means :: 0.08424\n",
      "The ratio for H-Clustering :: 0.08441\n",
      "The ratio for Gaussian Mixture Models :: 0.08426\n",
      "===== Clustering Result for K equals 6 =====\n",
      "The ratio for K-Means :: 0.08424\n",
      "The ratio for H-Clustering :: 0.08431\n",
      "The ratio for Gaussian Mixture Models :: 0.08427\n",
      "===== Clustering Result for K equals 7 =====\n",
      "The ratio for K-Means :: 0.08428\n",
      "The ratio for H-Clustering :: 0.08430\n",
      "The ratio for Gaussian Mixture Models :: 0.08420\n",
      "===== Clustering Result for K equals 8 =====\n",
      "The ratio for K-Means :: 0.08413\n",
      "The ratio for H-Clustering :: 0.08420\n",
      "The ratio for Gaussian Mixture Models :: 0.08420\n",
      "===== Clustering Result for K equals 9 =====\n",
      "The ratio for K-Means :: 0.08412\n",
      "The ratio for H-Clustering :: 0.08415\n",
      "The ratio for Gaussian Mixture Models :: 0.08423\n",
      "===== Clustering Result for K equals 10 =====\n",
      "The ratio for K-Means :: 0.08413\n",
      "The ratio for H-Clustering :: 0.08411\n",
      "The ratio for Gaussian Mixture Models :: 0.08415\n"
     ]
    }
   ],
   "source": [
    "for k in range(1,11):\n",
    "    print(\"===== Clustering Result for K equals\", k , \"=====\")\n",
    "    #K-Means\n",
    "    kmeans = KMeans(k)\n",
    "    kmeans.fit(data)\n",
    "    labels = kmeans.predict(data)\n",
    "    withinTotal = within_total_Sum_Of_Squares(data, labels, k)\n",
    "    print(\"The ratio for K-Means :: %0.5f\" % (withinTotal/total))\n",
    "    #H-Clustering\n",
    "    model = AgglomerativeClustering(n_clusters=k)\n",
    "    labels = model.fit_predict(data)\n",
    "    withinTotal = within_total_Sum_Of_Squares(data, labels, k)\n",
    "    print(\"The ratio for H-Clustering :: %0.5f\" % (withinTotal/total))\n",
    "    #Gaussian Mixture Models\n",
    "    gmm = GaussianMixture(n_components=k).fit(data)\n",
    "    labels = gmm.predict(data)\n",
    "    withinTotal = within_total_Sum_Of_Squares(data, labels, k)\n",
    "    print(\"The ratio for Gaussian Mixture Models :: %0.5f\" % (withinTotal/total))"
   ]
  },
  {
   "cell_type": "code",
   "execution_count": null,
   "metadata": {
    "collapsed": true
   },
   "outputs": [],
   "source": []
  }
 ],
 "metadata": {
  "kernelspec": {
   "display_name": "Python 3",
   "language": "python",
   "name": "python3"
  },
  "language_info": {
   "codemirror_mode": {
    "name": "ipython",
    "version": 3
   },
   "file_extension": ".py",
   "mimetype": "text/x-python",
   "name": "python",
   "nbconvert_exporter": "python",
   "pygments_lexer": "ipython3",
   "version": "3.6.3"
  }
 },
 "nbformat": 4,
 "nbformat_minor": 2
}
