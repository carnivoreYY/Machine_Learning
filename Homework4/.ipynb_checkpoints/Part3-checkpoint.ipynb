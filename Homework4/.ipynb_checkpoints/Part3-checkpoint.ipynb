{
 "cells": [
  {
   "cell_type": "code",
   "execution_count": 15,
   "metadata": {
    "collapsed": true
   },
   "outputs": [],
   "source": [
    "import pandas as pd\n",
    "from sklearn import preprocessing\n",
    "import numpy as np\n",
    "from sklearn.metrics import mean_squared_error\n",
    "import sys\n",
    "from sklearn.model_selection import train_test_split"
   ]
  },
  {
   "cell_type": "code",
   "execution_count": 21,
   "metadata": {
    "collapsed": true
   },
   "outputs": [],
   "source": [
    "def load_data(path):\n",
    "    xl = pd.ExcelFile(path)\n",
    "    data = xl.parse(\"Sheet1\")\n",
    "    predictors, responses = data.iloc[:,:-1], data.iloc[:,-1]\n",
    "    scaler = preprocessing.MinMaxScaler()\n",
    "    predictors = scaler.fit_transform(predictors)\n",
    "    return predictors, responses"
   ]
  },
  {
   "cell_type": "code",
   "execution_count": 22,
   "metadata": {},
   "outputs": [],
   "source": [
    "predictors, responses = load_data(\"Concrete_Data.xls\")\n",
    "x_train, x_test, y_train, y_test = train_test_split(predictors, responses, test_size=0.25)"
   ]
  },
  {
   "cell_type": "code",
   "execution_count": 32,
   "metadata": {},
   "outputs": [
    {
     "name": "stdout",
     "output_type": "stream",
     "text": [
      "===== Testing Result For Neural Network =====\n",
      "test MSE :: 61.05\n"
     ]
    }
   ],
   "source": [
    "from sklearn.neural_network import MLPRegressor\n",
    "MLPregr = MLPRegressor(hidden_layer_sizes=(10,30,10), max_iter=100000)\n",
    "MLPregr.fit(x_train, y_train)\n",
    "predictions_test = MLPregr.predict(x_test)\n",
    "MSE_test = mean_squared_error(y_test, predictions_test)\n",
    "print( \"===== Testing Result For Neural Network =====\")\n",
    "print(\"test MSE :: %0.2f\" % (MSE_test))"
   ]
  }
 ],
 "metadata": {
  "kernelspec": {
   "display_name": "Python 3",
   "language": "python",
   "name": "python3"
  },
  "language_info": {
   "codemirror_mode": {
    "name": "ipython",
    "version": 3
   },
   "file_extension": ".py",
   "mimetype": "text/x-python",
   "name": "python",
   "nbconvert_exporter": "python",
   "pygments_lexer": "ipython3",
   "version": "3.6.3"
  }
 },
 "nbformat": 4,
 "nbformat_minor": 2
}
