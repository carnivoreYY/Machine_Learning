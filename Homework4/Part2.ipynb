{
 "cells": [
  {
   "cell_type": "code",
   "execution_count": 42,
   "metadata": {
    "collapsed": true
   },
   "outputs": [],
   "source": [
    "import pandas as pd\n",
    "from sklearn import preprocessing\n",
    "import numpy as np\n",
    "import sys\n",
    "from sklearn.cluster import KMeans"
   ]
  },
  {
   "cell_type": "code",
   "execution_count": 43,
   "metadata": {
    "collapsed": true
   },
   "outputs": [],
   "source": [
    "def load_data(path):\n",
    "    data = pd.read_csv(path, sep=\",\", header=0, index_col=False, usecols=[*range(55,107)], skipinitialspace=True)\n",
    "    return data\n",
    "\n",
    "def total_Sum_Of_Squares(data):\n",
    "    centroid = data.mean()\n",
    "    total = 0.0\n",
    "    for index, row in data.iterrows():\n",
    "        for i in range(data.shape[1]):\n",
    "            total += (row.iloc[i] - centroid.iloc[i])**2\n",
    "    return total\n",
    "\n",
    "def within_total_Sum_Of_Squares(data, y_labels, k):\n",
    "    clusters = {}\n",
    "    for index, row in data.iterrows():\n",
    "        if y_labels[index] not in clusters:\n",
    "            clusters[y_labels[index]] = []\n",
    "        clusters[y_labels[index]].append(row)\n",
    "    withinTotal = 0.0\n",
    "    for i in range(k):\n",
    "        cluster = np.asarray(clusters[i])\n",
    "        withinTotal += cluster.var() * len(cluster) \n",
    "    return withinTotal"
   ]
  },
  {
   "cell_type": "code",
   "execution_count": 44,
   "metadata": {},
   "outputs": [],
   "source": [
    "data = load_data('Sales_Transactions_Dataset_Weekly.csv')\n",
    "total = total_Sum_Of_Squares(data)"
   ]
  },
  {
   "cell_type": "code",
   "execution_count": 45,
   "metadata": {},
   "outputs": [
    {
     "name": "stdout",
     "output_type": "stream",
     "text": [
      "===== Clustering Result for K equals 2 =====\n",
      "The TWSS/TSS ratio :: 0.01514\n",
      "===== Clustering Result for K equals 10 =====\n",
      "The TWSS/TSS ratio :: 0.01424\n"
     ]
    }
   ],
   "source": [
    "K = [2, 10]\n",
    "for k in K:\n",
    "    print(\"===== Clustering Result for K equals\", k , \"=====\")\n",
    "    #K-Means\n",
    "    kmeans = KMeans(k)\n",
    "    kmeans.fit(data)\n",
    "    labels = kmeans.predict(data)\n",
    "    withinTotal = within_total_Sum_Of_Squares(data, labels, k)\n",
    "    ratio = withinTotal/total\n",
    "    print(\"The TWSS/TSS ratio :: %0.5f\" % (ratio))\n",
    "    #H-Clustering"
   ]
  },
  {
   "cell_type": "code",
   "execution_count": null,
   "metadata": {
    "collapsed": true
   },
   "outputs": [],
   "source": []
  }
 ],
 "metadata": {
  "kernelspec": {
   "display_name": "Python 3",
   "language": "python",
   "name": "python3"
  },
  "language_info": {
   "codemirror_mode": {
    "name": "ipython",
    "version": 3
   },
   "file_extension": ".py",
   "mimetype": "text/x-python",
   "name": "python",
   "nbconvert_exporter": "python",
   "pygments_lexer": "ipython3",
   "version": "3.6.3"
  }
 },
 "nbformat": 4,
 "nbformat_minor": 2
}
